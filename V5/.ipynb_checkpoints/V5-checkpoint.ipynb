{
 "cells": [
  {
   "cell_type": "markdown",
   "id": "69580cb9-4cfb-4317-b92a-7e36c53d89be",
   "metadata": {},
   "source": [
    "# 2 AD-Wandlung\n",
    "## Messung Gleichspannungsquelle 1-10V (1V Schritten)\n",
    "|Spannung[V]|hochgenaues Feinmessgerät[V]|Multimeter[V]|Oszilloskop[V]|AD-Wandler[V]|\n",
    "|-----------|----------------------------|-------------|--------------|-------------|\n",
    "|1          |1.041                       |1.033        |1.029         |1.035        |\n",
    "|2          |2.049                       |2.034        |2.055         |2.041        |\n",
    "|3          |3.056                       |3.033        |3.071         |3.047        |\n",
    "|4          |4.066                       |4.06         |4.054         |4.053        |\n",
    "|5          |5.075                       |5.07         |5.050         |5.068        |\n",
    "|6          |6.037                       |6.04         |6.025         |6.035        |\n",
    "|7          |7.046                       |7.04         |7.019         |7.061        |\n",
    "|8          |8.056                       |8.06         |8.037         |8.047        |\n",
    "|9          |9.067                       |9.07         |9.061         |9.063        |\n",
    "|10         |10.077                      |10.08        |10.09         |9.990        |\n"
   ]
  },
  {
   "cell_type": "markdown",
   "id": "9ec4b1a1-d759-4768-9ca9-74af9d3f9dee",
   "metadata": {},
   "source": [
    "# DA-Wandlung\n",
    "## Messung Gleichspannungsquelle 0.5-5V (0.5V Schritten)\n",
    "|Spannung[V]|Oszilloskop[V]|\n",
    "|-----------|--------------|\n",
    "|0.5        |0.550         |\n",
    "|1.0        |0.936         |\n",
    "|1.5        |1.495         |\n",
    "|2.0        |2.056         |\n",
    "|2.5        |2.466         |\n",
    "|3.0        |2.991         |\n",
    "|3.5        |3.552         |\n",
    "|4.0        |4.075         |\n",
    "|4.5        |4.487         |\n",
    "|5.0        |5.047         |"
   ]
  },
  {
   "cell_type": "markdown",
   "id": "483cf6f9-13ae-49f9-9bd9-11800b9fa9ce",
   "metadata": {},
   "source": [
    "# 5 Abtasttheorem\n",
    "Abtastfrequenz: 7000Hz\n",
    "Nyquist-Frequenz: 3500Hz\n",
    "Halbe Nyquist-Frequenz: 1750Hz\n",
    "Messschritte: 1750, 2625, 3500, 4375, 5250, 6125, 7000"
   ]
  }
 ],
 "metadata": {
  "kernelspec": {
   "display_name": "Python 3 (ipykernel)",
   "language": "python",
   "name": "python3"
  },
  "language_info": {
   "codemirror_mode": {
    "name": "ipython",
    "version": 3
   },
   "file_extension": ".py",
   "mimetype": "text/x-python",
   "name": "python",
   "nbconvert_exporter": "python",
   "pygments_lexer": "ipython3",
   "version": "3.12.1"
  }
 },
 "nbformat": 4,
 "nbformat_minor": 5
}
