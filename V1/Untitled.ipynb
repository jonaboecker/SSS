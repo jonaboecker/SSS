{
 "cells": [
  {
   "cell_type": "markdown",
   "id": "9e72b4e3-80ea-455e-b56b-15ac456d6b25",
   "metadata": {},
   "source": [
    "# 1\n",
    "Erstellen Sie eine Python-Funktion, welche die Daten aus der Datei einliest (verwenden Sie\r\n",
    "dazu die Numpy-Funktion genfromtxt()), von den Daten die ersten 1000 Werte überspringt\r\n",
    "und aus den nächsten Werten (nehmen Sie eine sinnvolle Anzahl von Messungen) den\r\n",
    "Mittelwert und die Standardabweichung berechnet (der Einschwingvorgang wird dadurch\r\n",
    "ignoriert). Vergleichen Sie die Ergebnisse mit den Werten aus Ihrer gemessenen Tabelle.\r\n",
    "Stellen Sie die gefundene Übertragungsfunktion bzw. Kennlinie im Notebook graphisch mit\r\n",
    "Python bzw. Matplotli dar.\r"
   ]
  },
  {
   "cell_type": "code",
   "execution_count": 1,
   "id": "35d4750d-67c0-4070-94df-129904a0d25c",
   "metadata": {},
   "outputs": [
    {
     "name": "stdout",
     "output_type": "stream",
     "text": [
      "Collecting numpy\n",
      "  Downloading numpy-1.26.1-cp312-cp312-win_amd64.whl.metadata (61 kB)\n",
      "     ---------------------------------------- 0.0/61.2 kB ? eta -:--:--\n",
      "     ------------- -------------------------- 20.5/61.2 kB ? eta -:--:--\n",
      "     ------------------------------- ------ 51.2/61.2 kB 871.5 kB/s eta 0:00:01\n",
      "     -------------------------------------- 61.2/61.2 kB 653.3 kB/s eta 0:00:00\n",
      "Downloading numpy-1.26.1-cp312-cp312-win_amd64.whl (15.5 MB)\n",
      "   ---------------------------------------- 0.0/15.5 MB ? eta -:--:--\n",
      "    --------------------------------------- 0.2/15.5 MB 6.9 MB/s eta 0:00:03\n",
      "   -- ------------------------------------- 0.8/15.5 MB 10.0 MB/s eta 0:00:02\n",
      "   --- ------------------------------------ 1.4/15.5 MB 11.1 MB/s eta 0:00:02\n",
      "   ---- ----------------------------------- 1.6/15.5 MB 11.7 MB/s eta 0:00:02\n",
      "   ---- ----------------------------------- 1.9/15.5 MB 9.3 MB/s eta 0:00:02\n",
      "   ------- -------------------------------- 2.7/15.5 MB 10.3 MB/s eta 0:00:02\n",
      "   -------- ------------------------------- 3.4/15.5 MB 10.9 MB/s eta 0:00:02\n",
      "   --------- ------------------------------ 3.7/15.5 MB 11.1 MB/s eta 0:00:02\n",
      "   --------- ------------------------------ 3.7/15.5 MB 11.1 MB/s eta 0:00:02\n",
      "   ------------- -------------------------- 5.1/15.5 MB 11.3 MB/s eta 0:00:01\n",
      "   -------------- ------------------------- 5.7/15.5 MB 11.4 MB/s eta 0:00:01\n",
      "   ---------------- ----------------------- 6.3/15.5 MB 11.9 MB/s eta 0:00:01\n",
      "   ----------------- ---------------------- 6.9/15.5 MB 11.7 MB/s eta 0:00:01\n",
      "   ------------------- -------------------- 7.6/15.5 MB 12.1 MB/s eta 0:00:01\n",
      "   --------------------- ------------------ 8.2/15.5 MB 12.2 MB/s eta 0:00:01\n",
      "   ---------------------- ----------------- 8.8/15.5 MB 12.2 MB/s eta 0:00:01\n",
      "   ----------------------- ---------------- 9.2/15.5 MB 12.1 MB/s eta 0:00:01\n",
      "   ----------------------- ---------------- 9.2/15.5 MB 12.1 MB/s eta 0:00:01\n",
      "   ------------------------ --------------- 9.6/15.5 MB 11.2 MB/s eta 0:00:01\n",
      "   --------------------------- ------------ 10.9/15.5 MB 12.1 MB/s eta 0:00:01\n",
      "   ----------------------------- ---------- 11.6/15.5 MB 12.6 MB/s eta 0:00:01\n",
      "   ------------------------------ --------- 12.0/15.5 MB 12.8 MB/s eta 0:00:01\n",
      "   -------------------------------- ------- 12.6/15.5 MB 12.6 MB/s eta 0:00:01\n",
      "   ---------------------------------- ----- 13.2/15.5 MB 12.6 MB/s eta 0:00:01\n",
      "   ----------------------------------- ---- 13.9/15.5 MB 12.6 MB/s eta 0:00:01\n",
      "   ------------------------------------- -- 14.5/15.5 MB 13.1 MB/s eta 0:00:01\n",
      "   -------------------------------------- - 15.1/15.5 MB 12.8 MB/s eta 0:00:01\n",
      "   ---------------------------------------  15.5/15.5 MB 12.6 MB/s eta 0:00:01\n",
      "   ---------------------------------------- 15.5/15.5 MB 12.1 MB/s eta 0:00:00\n",
      "Installing collected packages: numpy\n",
      "Successfully installed numpy-1.26.1\n"
     ]
    }
   ],
   "source": [
    "!pip install numpy\n",
    "import numpy as np"
   ]
  },
  {
   "cell_type": "code",
   "execution_count": 7,
   "id": "7d72bba8-aff7-46de-9a5a-777abe40ed05",
   "metadata": {},
   "outputs": [],
   "source": [
    "def conv(x):\n",
    "    return x.replace(',','.').encode()"
   ]
  },
  {
   "cell_type": "code",
   "execution_count": 35,
   "id": "dc1b16c4-149c-48ca-97cf-140325f1124f",
   "metadata": {},
   "outputs": [
    {
     "name": "stdout",
     "output_type": "stream",
     "text": [
      "[1.4395762  1.26809456 1.12550468 1.0574713  0.95790017 0.87496002\n",
      " 0.8022669  0.77291004 0.74075728 0.71792416 0.67179194 0.62985356\n",
      " 0.60795241 0.59723482 0.56554805 0.55110262 0.55483047 0.52407573\n",
      " 0.53106544 0.5147561  0.48586523]\n",
      "[0.01545481 0.01930305 0.0194599  0.02135434 0.02578167 0.01930309\n",
      " 0.02039703 0.02291855 0.01680122 0.02291855 0.02299894 0.02419519\n",
      " 0.01527824 0.01790244 0.01616897 0.01983022 0.01333553 0.02017757\n",
      " 0.02282831 0.01378391 0.02815626]\n"
     ]
    }
   ],
   "source": [
    "i = 10\n",
    "x_points = []\n",
    "data_mean = []\n",
    "data_std = []\n",
    "while i <= 70:\n",
    "    x_points = np.append(x_points, i)\n",
    "    temp_data = np.genfromtxt((conv(x) for x in open('Distanz_' + str(i) + '_cm.csv')), skip_header=1003, max_rows=100, delimiter=';')\n",
    "    temp_data = temp_data[:,1]\n",
    "    data_mean = np.append(data_mean, np.mean(temp_data))\n",
    "    data_std = np.append(data_std, np.std(temp_data))\n",
    "    i += 3\n",
    "print(data_mean)\n",
    "print(data_std)"
   ]
  },
  {
   "cell_type": "code",
   "execution_count": 33,
   "id": "c582aaa9-afe0-4a49-b514-484ca642802e",
   "metadata": {},
   "outputs": [
    {
     "name": "stdout",
     "output_type": "stream",
     "text": [
      "Collecting matplotlib\n",
      "  Downloading matplotlib-3.8.0-cp312-cp312-win_amd64.whl.metadata (5.9 kB)\n",
      "Collecting contourpy>=1.0.1 (from matplotlib)\n",
      "  Downloading contourpy-1.1.1-cp312-cp312-win_amd64.whl.metadata (5.9 kB)\n",
      "Collecting cycler>=0.10 (from matplotlib)\n",
      "  Downloading cycler-0.12.1-py3-none-any.whl.metadata (3.8 kB)\n",
      "Collecting fonttools>=4.22.0 (from matplotlib)\n",
      "  Downloading fonttools-4.43.1-cp312-cp312-win_amd64.whl.metadata (155 kB)\n",
      "     ---------------------------------------- 0.0/155.5 kB ? eta -:--:--\n",
      "     --------------------------- ---------- 112.6/155.5 kB 3.3 MB/s eta 0:00:01\n",
      "     -------------------------------------- 155.5/155.5 kB 3.1 MB/s eta 0:00:00\n",
      "Collecting kiwisolver>=1.0.1 (from matplotlib)\n",
      "  Downloading kiwisolver-1.4.5-cp312-cp312-win_amd64.whl.metadata (6.5 kB)\n",
      "Requirement already satisfied: numpy<2,>=1.21 in c:\\users\\jonab\\appdata\\local\\programs\\python\\python312\\lib\\site-packages (from matplotlib) (1.26.1)\n",
      "Requirement already satisfied: packaging>=20.0 in c:\\users\\jonab\\appdata\\local\\programs\\python\\python312\\lib\\site-packages (from matplotlib) (23.2)\n",
      "Collecting pillow>=6.2.0 (from matplotlib)\n",
      "  Downloading Pillow-10.1.0-cp312-cp312-win_amd64.whl.metadata (9.6 kB)\n",
      "Collecting pyparsing>=2.3.1 (from matplotlib)\n",
      "  Downloading pyparsing-3.1.1-py3-none-any.whl.metadata (5.1 kB)\n",
      "Requirement already satisfied: python-dateutil>=2.7 in c:\\users\\jonab\\appdata\\local\\programs\\python\\python312\\lib\\site-packages (from matplotlib) (2.8.2)\n",
      "Requirement already satisfied: six>=1.5 in c:\\users\\jonab\\appdata\\local\\programs\\python\\python312\\lib\\site-packages (from python-dateutil>=2.7->matplotlib) (1.16.0)\n",
      "Downloading matplotlib-3.8.0-cp312-cp312-win_amd64.whl (7.6 MB)\n",
      "   ---------------------------------------- 0.0/7.6 MB ? eta -:--:--\n",
      "   -- ------------------------------------- 0.5/7.6 MB 9.4 MB/s eta 0:00:01\n",
      "   ----- ---------------------------------- 1.1/7.6 MB 11.4 MB/s eta 0:00:01\n",
      "   -------- ------------------------------- 1.7/7.6 MB 12.1 MB/s eta 0:00:01\n",
      "   ------------ --------------------------- 2.3/7.6 MB 12.3 MB/s eta 0:00:01\n",
      "   --------------- ------------------------ 2.9/7.6 MB 12.5 MB/s eta 0:00:01\n",
      "   ------------------ --------------------- 3.5/7.6 MB 12.3 MB/s eta 0:00:01\n",
      "   --------------------- ------------------ 4.2/7.6 MB 12.6 MB/s eta 0:00:01\n",
      "   ------------------------- -------------- 4.8/7.6 MB 12.8 MB/s eta 0:00:01\n",
      "   ---------------------------- ----------- 5.4/7.6 MB 12.8 MB/s eta 0:00:01\n",
      "   ------------------------------- -------- 6.0/7.6 MB 12.8 MB/s eta 0:00:01\n",
      "   ---------------------------------- ----- 6.6/7.6 MB 12.9 MB/s eta 0:00:01\n",
      "   ------------------------------------- -- 7.1/7.6 MB 12.7 MB/s eta 0:00:01\n",
      "   ---------------------------------------  7.6/7.6 MB 12.8 MB/s eta 0:00:01\n",
      "   ---------------------------------------- 7.6/7.6 MB 12.5 MB/s eta 0:00:00\n",
      "Downloading contourpy-1.1.1-cp312-cp312-win_amd64.whl (486 kB)\n",
      "   ---------------------------------------- 0.0/486.7 kB ? eta -:--:--\n",
      "   --------------------------------------- 486.7/486.7 kB 15.4 MB/s eta 0:00:00\n",
      "Downloading cycler-0.12.1-py3-none-any.whl (8.3 kB)\n",
      "Downloading fonttools-4.43.1-cp312-cp312-win_amd64.whl (2.1 MB)\n",
      "   ---------------------------------------- 0.0/2.1 MB ? eta -:--:--\n",
      "   ----------- ---------------------------- 0.6/2.1 MB 19.5 MB/s eta 0:00:01\n",
      "   ----------------------- ---------------- 1.2/2.1 MB 15.6 MB/s eta 0:00:01\n",
      "   ----------------------------- ---------- 1.6/2.1 MB 14.4 MB/s eta 0:00:01\n",
      "   ---------------------------------------- 2.1/2.1 MB 13.6 MB/s eta 0:00:00\n",
      "Downloading kiwisolver-1.4.5-cp312-cp312-win_amd64.whl (56 kB)\n",
      "   ---------------------------------------- 0.0/56.0 kB ? eta -:--:--\n",
      "   ---------------------------------------- 56.0/56.0 kB ? eta 0:00:00\n",
      "Downloading Pillow-10.1.0-cp312-cp312-win_amd64.whl (2.6 MB)\n",
      "   ---------------------------------------- 0.0/2.6 MB ? eta -:--:--\n",
      "   --------- ------------------------------ 0.6/2.6 MB 12.9 MB/s eta 0:00:01\n",
      "   ------------------ --------------------- 1.2/2.6 MB 13.0 MB/s eta 0:00:01\n",
      "   ---------------------------- ----------- 1.9/2.6 MB 13.1 MB/s eta 0:00:01\n",
      "   ------------------------------------- -- 2.5/2.6 MB 13.1 MB/s eta 0:00:01\n",
      "   ---------------------------------------- 2.6/2.6 MB 12.8 MB/s eta 0:00:00\n",
      "Downloading pyparsing-3.1.1-py3-none-any.whl (103 kB)\n",
      "   ---------------------------------------- 0.0/103.1 kB ? eta -:--:--\n",
      "   ---------------------------------------- 103.1/103.1 kB 5.8 MB/s eta 0:00:00\n",
      "Installing collected packages: pyparsing, pillow, kiwisolver, fonttools, cycler, contourpy, matplotlib\n",
      "Successfully installed contourpy-1.1.1 cycler-0.12.1 fonttools-4.43.1 kiwisolver-1.4.5 matplotlib-3.8.0 pillow-10.1.0 pyparsing-3.1.1\n"
     ]
    }
   ],
   "source": [
    "!pip install matplotlib\n",
    "import matplotlib\n",
    "import matplotlib.pyplot as plt"
   ]
  },
  {
   "cell_type": "code",
   "execution_count": 39,
   "id": "c537dee8-b817-4a5e-8081-3a4d8a0799a3",
   "metadata": {},
   "outputs": [
    {
     "data": {
      "text/plain": [
       "<function matplotlib.pyplot.show(close=None, block=None)>"
      ]
     },
     "execution_count": 39,
     "metadata": {},
     "output_type": "execute_result"
    },
    {
     "data": {
      "image/png": "[encoded data removed]",
      "text/plain": [
       "<Figure size 640x480 with 1 Axes>"
      ]
     },
     "metadata": {},
     "output_type": "display_data"
    }
   ],
   "source": [
    "plt.plot(x_points, data_mean)\n",
    "\n",
    "plt.xlabel('Distanz [cm]')\n",
    "plt.ylabel('Spannung [V]')\n",
    "plt.title('Übertragsfunktion');\n",
    "\n",
    "plt.show"
   ]
  },
  {
   "cell_type": "code",
   "execution_count": null,
   "id": "5c70de8d-5e1a-4f38-b30f-7d754fa0b663",
   "metadata": {},
   "outputs": [],
   "source": []
  }
 ],
 "metadata": {
  "kernelspec": {
   "display_name": "Python 3 (ipykernel)",
   "language": "python",
   "name": "python3"
  },
  "language_info": {
   "codemirror_mode": {
    "name": "ipython",
    "version": 3
   },
   "file_extension": ".py",
   "mimetype": "text/x-python",
   "name": "python",
   "nbconvert_exporter": "python",
   "pygments_lexer": "ipython3",
   "version": "3.12.0"
  }
 },
 "nbformat": 4,
 "nbformat_minor": 5
}
